{
  "nbformat": 4,
  "nbformat_minor": 0,
  "metadata": {
    "colab": {
      "name": "Day9A2.ipynb",
      "provenance": [],
      "authorship_tag": "ABX9TyPPDbcPsbZtWPxqrHwTv1WQ",
      "include_colab_link": true
    },
    "kernelspec": {
      "name": "python3",
      "display_name": "Python 3"
    }
  },
  "cells": [
    {
      "cell_type": "markdown",
      "metadata": {
        "id": "view-in-github",
        "colab_type": "text"
      },
      "source": [
        "<a href=\"https://colab.research.google.com/github/aishab2812/LetsUpgrade-python/blob/master/Day9A2.ipynb\" target=\"_parent\"><img src=\"https://colab.research.google.com/assets/colab-badge.svg\" alt=\"Open In Colab\"/></a>"
      ]
    },
    {
      "cell_type": "code",
      "metadata": {
        "id": "TK4qeo5Qq8ss",
        "colab_type": "code",
        "colab": {
          "base_uri": "https://localhost:8080/",
          "height": 191
        },
        "outputId": "fd584b1d-2750-446b-c7f1-9a0097b40415"
      },
      "source": [
        " print(\"Enter 'x' for exit.\");\n",
        "print(\"Enter the interval (starting and ending number): \");\n",
        "start = input();\n",
        "if start == 'x':\n",
        "    exit();\n",
        "else:\n",
        "    end = input();\n",
        "    lower = int(start);\n",
        "    upper = int(end);\n",
        "    for num in range(lower, upper+1):\n",
        "        tot = 0;\n",
        "        temp = num;\n",
        "        while temp != 0:\n",
        "            dig = temp % 10;\n",
        "            tot += dig ** 3;\n",
        "            temp //= 10;\n",
        "        if num == tot:\n",
        "            print(num);"
      ],
      "execution_count": 2,
      "outputs": [
        {
          "output_type": "stream",
          "text": [
            "Enter 'x' for exit.\n",
            "Enter the interval (starting and ending number): \n",
            "1\n",
            "1000\n",
            "1\n",
            "153\n",
            "370\n",
            "371\n",
            "407\n"
          ],
          "name": "stdout"
        }
      ]
    }
  ]
}