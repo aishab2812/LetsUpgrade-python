{
  "nbformat": 4,
  "nbformat_minor": 0,
  "metadata": {
    "colab": {
      "name": "Day3_A1.ipynb",
      "provenance": [],
      "authorship_tag": "ABX9TyP1jFyJb0loC/p+c5HO1FwE",
      "include_colab_link": true
    },
    "kernelspec": {
      "name": "python3",
      "display_name": "Python 3"
    }
  },
  "cells": [
    {
      "cell_type": "markdown",
      "metadata": {
        "id": "view-in-github",
        "colab_type": "text"
      },
      "source": [
        "<a href=\"https://colab.research.google.com/github/aishab2812/LetsUpgrade-python/blob/master/Day3_A1.ipynb\" target=\"_parent\"><img src=\"https://colab.research.google.com/assets/colab-badge.svg\" alt=\"Open In Colab\"/></a>"
      ]
    },
    {
      "cell_type": "code",
      "metadata": {
        "id": "VplcTP1a4YCd",
        "colab_type": "code",
        "colab": {
          "base_uri": "https://localhost:8080/",
          "height": 51
        },
        "outputId": "d871b27c-7016-488b-b407-09cb14a441b1"
      },
      "source": [
        " \n",
        "num=input(\"enter the altitude\")\n",
        "num=int(num)\n",
        "if num<=1000:\n",
        "    print(\"LAND THE PLANE\")\n",
        "if num<=5000:\n",
        "    print(\"Take plane down to 1000Ft\")\n",
        "if num>=5000:\n",
        "    print(\"Turn around\")"
      ],
      "execution_count": 1,
      "outputs": [
        {
          "output_type": "stream",
          "text": [
            "enter the altitude4500\n",
            "Take plane down to 1000Ft\n"
          ],
          "name": "stdout"
        }
      ]
    }
  ]
}